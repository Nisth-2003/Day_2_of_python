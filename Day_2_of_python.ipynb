{
  "nbformat": 4,
  "nbformat_minor": 0,
  "metadata": {
    "colab": {
      "provenance": [],
      "authorship_tag": "ABX9TyOlm30iM5j+EYFfnG9Rp6aY",
      "include_colab_link": true
    },
    "kernelspec": {
      "name": "python3",
      "display_name": "Python 3"
    },
    "language_info": {
      "name": "python"
    }
  },
  "cells": [
    {
      "cell_type": "markdown",
      "metadata": {
        "id": "view-in-github",
        "colab_type": "text"
      },
      "source": [
        "<a href=\"https://colab.research.google.com/github/Nisth-2003/Day_2_of_python/blob/main/Day_2_of_python.ipynb\" target=\"_parent\"><img src=\"https://colab.research.google.com/assets/colab-badge.svg\" alt=\"Open In Colab\"/></a>"
      ]
    },
    {
      "cell_type": "code",
      "execution_count": null,
      "metadata": {
        "colab": {
          "base_uri": "https://localhost:8080/"
        },
        "id": "4gTAUZa8eZOH",
        "outputId": "d78a093a-b724-4ba4-dab6-241c9021d079"
      },
      "outputs": [
        {
          "output_type": "stream",
          "name": "stdout",
          "text": [
            "Enter a:5\n",
            "Enter b:4\n",
            "a= 4\n",
            "b= 5\n"
          ]
        }
      ],
      "source": [
        "#swap two numbers\n",
        "a=int(input(\"Enter a:\"))\n",
        "b=int(input(\"Enter b:\"))\n",
        "temp=a\n",
        "a=b\n",
        "b=temp\n",
        "print(\"a=\",a)\n",
        "print(\"b=\",b)"
      ]
    },
    {
      "cell_type": "code",
      "source": [
        "import random as r\n",
        "print(r.randint(0,9))"
      ],
      "metadata": {
        "colab": {
          "base_uri": "https://localhost:8080/"
        },
        "id": "v-9B9Jizf03B",
        "outputId": "94c71db1-1868-4e99-8fc3-84b956d8ca01"
      },
      "execution_count": null,
      "outputs": [
        {
          "output_type": "stream",
          "name": "stdout",
          "text": [
            "4\n"
          ]
        }
      ]
    },
    {
      "cell_type": "code",
      "source": [
        "#km to miles(1km =0.621)\n",
        "a=int(input(\"enter km:\"))\n",
        "print(a*0.621)"
      ],
      "metadata": {
        "colab": {
          "base_uri": "https://localhost:8080/"
        },
        "id": "_oL-5KMwgclX",
        "outputId": "382cc96f-fa3a-42ab-e308-8fc22d33425a"
      },
      "execution_count": null,
      "outputs": [
        {
          "output_type": "stream",
          "name": "stdout",
          "text": [
            "enter km:2\n",
            "1.242\n"
          ]
        }
      ]
    },
    {
      "cell_type": "code",
      "source": [
        "#celsius to fahrenheit\n",
        "a=int(input(\"Enter celsius:\"))\n",
        "f=(a*9/5)+32\n",
        "print(f)"
      ],
      "metadata": {
        "colab": {
          "base_uri": "https://localhost:8080/"
        },
        "id": "nKlYqP8GhN8N",
        "outputId": "d2a1fc8a-d5a4-4b74-a48d-19147473a0d0"
      },
      "execution_count": null,
      "outputs": [
        {
          "output_type": "stream",
          "name": "stdout",
          "text": [
            "Enter celsius:1\n",
            "33.8\n"
          ]
        }
      ]
    }
  ]
}